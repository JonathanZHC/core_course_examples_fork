{
 "cells": [
  {
   "cell_type": "code",
   "execution_count": 1,
   "metadata": {},
   "outputs": [],
   "source": [
    "import numpy as np\n",
    "from SysID_utils import DataVarIndex, ModelIdentifier"
   ]
  },
  {
   "cell_type": "code",
   "execution_count": null,
   "metadata": {},
   "outputs": [],
   "source": [
    "\n",
    "file_path = '/home/haocheng/Experiments/figure_8/merge_smoothed.csv'\n",
    "\n",
    "# Select zero-order indices to smooth\n",
    "smooth_indices_zero_order = [DataVarIndex.POS, DataVarIndex.DES_POS]\n",
    "\n",
    "# Initialize the object of class ModelIdentifier\n",
    "model_identifier = ModelIdentifier(file_path, smooth_indices_zero_order) \n",
    "\n",
    "# Select the input and output variables\n",
    "input_indices = [DataVarIndex.DES_ACC]\n",
    "output_indices = [DataVarIndex.JERK, DataVarIndex.ACC]\n",
    "\n",
    "# Do the identification\n",
    "model_identifier.identify_model(input_indices, output_indices)\n",
    "\n",
    "# Evaluation\n",
    "model_identifier.evaluate_model()"
   ]
  }
 ],
 "metadata": {
  "kernelspec": {
   "display_name": "Python 3",
   "language": "python",
   "name": "python3"
  },
  "language_info": {
   "codemirror_mode": {
    "name": "ipython",
    "version": 3
   },
   "file_extension": ".py",
   "mimetype": "text/x-python",
   "name": "python",
   "nbconvert_exporter": "python",
   "pygments_lexer": "ipython3",
   "version": "3.8.10"
  }
 },
 "nbformat": 4,
 "nbformat_minor": 2
}
